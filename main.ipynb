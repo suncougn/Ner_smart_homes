{
 "cells": [
  {
   "cell_type": "markdown",
   "id": "10327956-8f8c-4b5e-986d-58cba61d2ae5",
   "metadata": {},
   "source": [
    "# Preprocessing data"
   ]
  },
  {
   "cell_type": "code",
   "execution_count": 1,
   "id": "84061e73-0f25-4851-bff2-aa51f8f117b1",
   "metadata": {},
   "outputs": [],
   "source": [
    "import json\n",
    "f= open('train_20230909.jsonl','r',encoding='utf-8')\n",
    "lines=f.readlines()\n",
    "f.close()"
   ]
  },
  {
   "cell_type": "code",
   "execution_count": null,
   "id": "6ee03c2c-be50-4304-88bc-f73b1ee24a37",
   "metadata": {},
   "outputs": [],
   "source": [
    "dataset=[]\n",
    "for line in lines:\n",
    "    json_data=json.loads(line)\n",
    "    dataset.append(json_data)"
   ]
  },
  {
   "cell_type": "code",
   "execution_count": 18,
   "id": "d4a0bd82-9aeb-4c36-9637-d61c08cada12",
   "metadata": {},
   "outputs": [
    {
     "data": {
      "text/html": [
       "<div>\n",
       "<style scoped>\n",
       "    .dataframe tbody tr th:only-of-type {\n",
       "        vertical-align: middle;\n",
       "    }\n",
       "\n",
       "    .dataframe tbody tr th {\n",
       "        vertical-align: top;\n",
       "    }\n",
       "\n",
       "    .dataframe thead th {\n",
       "        text-align: right;\n",
       "    }\n",
       "</style>\n",
       "<table border=\"1\" class=\"dataframe\">\n",
       "  <thead>\n",
       "    <tr style=\"text-align: right;\">\n",
       "      <th></th>\n",
       "      <th>Sentence #</th>\n",
       "      <th>Word</th>\n",
       "      <th>POS</th>\n",
       "      <th>Tag</th>\n",
       "    </tr>\n",
       "  </thead>\n",
       "  <tbody>\n",
       "    <tr>\n",
       "      <th>0</th>\n",
       "      <td>0</td>\n",
       "      <td>cái</td>\n",
       "      <td>O</td>\n",
       "      <td>O</td>\n",
       "    </tr>\n",
       "    <tr>\n",
       "      <th>1</th>\n",
       "      <td>0</td>\n",
       "      <td>đèn</td>\n",
       "      <td>O</td>\n",
       "      <td>B-dv</td>\n",
       "    </tr>\n",
       "    <tr>\n",
       "      <th>2</th>\n",
       "      <td>0</td>\n",
       "      <td>tranh</td>\n",
       "      <td>O</td>\n",
       "      <td>E-dv</td>\n",
       "    </tr>\n",
       "    <tr>\n",
       "      <th>3</th>\n",
       "      <td>0</td>\n",
       "      <td>trong</td>\n",
       "      <td>O</td>\n",
       "      <td>O</td>\n",
       "    </tr>\n",
       "    <tr>\n",
       "      <th>4</th>\n",
       "      <td>0</td>\n",
       "      <td>nhà</td>\n",
       "      <td>O</td>\n",
       "      <td>B-loc</td>\n",
       "    </tr>\n",
       "  </tbody>\n",
       "</table>\n",
       "</div>"
      ],
      "text/plain": [
       "  Sentence #   Word POS    Tag\n",
       "0          0    cái   O      O\n",
       "1          0    đèn   O   B-dv\n",
       "2          0  tranh   O   E-dv\n",
       "3          0  trong   O      O\n",
       "4          0    nhà   O  B-loc"
      ]
     },
     "execution_count": 18,
     "metadata": {},
     "output_type": "execute_result"
    }
   ],
   "source": [
    "from process_data.processor import *\n",
    "\n",
    "p=processor()\n",
    "NER_dataframe=p.create_csv(dataset)\n",
    "NER_dataframe.head()"
   ]
  },
  {
   "cell_type": "code",
   "execution_count": 4,
   "id": "e92da61a-b4de-4689-babf-6905b286c0e2",
   "metadata": {},
   "outputs": [],
   "source": [
    "NER_dataframe.to_csv('NER_Data_processed.csv', index=False)"
   ]
  },
  {
   "cell_type": "markdown",
   "id": "54610561-8885-4b8f-9d8c-541e627c1979",
   "metadata": {},
   "source": [
    "# NER"
   ]
  },
  {
   "cell_type": "markdown",
   "id": "eb71f47e",
   "metadata": {},
   "source": [
    "## EDA"
   ]
  },
  {
   "cell_type": "code",
   "execution_count": 2,
   "id": "ba66152c-6d83-41b1-b79f-2d5ef3f4059c",
   "metadata": {},
   "outputs": [],
   "source": [
    "import numpy as np\n",
    "import pandas as pd\n",
    "import re\n",
    "import matplotlib.pyplot as plt\n",
    "\n",
    "import warnings\n",
    "warnings.filterwarnings('ignore')"
   ]
  },
  {
   "cell_type": "code",
   "execution_count": 3,
   "id": "9f7411d4-098c-44f7-9ea9-d1f8e4c863f9",
   "metadata": {},
   "outputs": [],
   "source": [
    "data = pd.read_csv('NER_Data_processed.csv')"
   ]
  },
  {
   "cell_type": "code",
   "execution_count": 4,
   "id": "70a10cce-69b5-450c-a07e-3ab88df79652",
   "metadata": {
    "scrolled": true
   },
   "outputs": [
    {
     "data": {
      "text/html": [
       "<div>\n",
       "<style scoped>\n",
       "    .dataframe tbody tr th:only-of-type {\n",
       "        vertical-align: middle;\n",
       "    }\n",
       "\n",
       "    .dataframe tbody tr th {\n",
       "        vertical-align: top;\n",
       "    }\n",
       "\n",
       "    .dataframe thead th {\n",
       "        text-align: right;\n",
       "    }\n",
       "</style>\n",
       "<table border=\"1\" class=\"dataframe\">\n",
       "  <thead>\n",
       "    <tr style=\"text-align: right;\">\n",
       "      <th></th>\n",
       "      <th>Sentence #</th>\n",
       "      <th>Word</th>\n",
       "      <th>POS</th>\n",
       "      <th>Tag</th>\n",
       "    </tr>\n",
       "  </thead>\n",
       "  <tbody>\n",
       "    <tr>\n",
       "      <th>0</th>\n",
       "      <td>0</td>\n",
       "      <td>cái</td>\n",
       "      <td>O</td>\n",
       "      <td>O</td>\n",
       "    </tr>\n",
       "    <tr>\n",
       "      <th>1</th>\n",
       "      <td>0</td>\n",
       "      <td>đèn</td>\n",
       "      <td>O</td>\n",
       "      <td>B-dv</td>\n",
       "    </tr>\n",
       "    <tr>\n",
       "      <th>2</th>\n",
       "      <td>0</td>\n",
       "      <td>tranh</td>\n",
       "      <td>O</td>\n",
       "      <td>E-dv</td>\n",
       "    </tr>\n",
       "    <tr>\n",
       "      <th>3</th>\n",
       "      <td>0</td>\n",
       "      <td>trong</td>\n",
       "      <td>O</td>\n",
       "      <td>O</td>\n",
       "    </tr>\n",
       "    <tr>\n",
       "      <th>4</th>\n",
       "      <td>0</td>\n",
       "      <td>nhà</td>\n",
       "      <td>O</td>\n",
       "      <td>B-loc</td>\n",
       "    </tr>\n",
       "    <tr>\n",
       "      <th>...</th>\n",
       "      <td>...</td>\n",
       "      <td>...</td>\n",
       "      <td>...</td>\n",
       "      <td>...</td>\n",
       "    </tr>\n",
       "    <tr>\n",
       "      <th>82726</th>\n",
       "      <td>7489</td>\n",
       "      <td>2</td>\n",
       "      <td>O</td>\n",
       "      <td>B-dr</td>\n",
       "    </tr>\n",
       "    <tr>\n",
       "      <th>82727</th>\n",
       "      <td>7489</td>\n",
       "      <td>tiếng</td>\n",
       "      <td>O</td>\n",
       "      <td>I-dr</td>\n",
       "    </tr>\n",
       "    <tr>\n",
       "      <th>82728</th>\n",
       "      <td>7489</td>\n",
       "      <td>56</td>\n",
       "      <td>O</td>\n",
       "      <td>I-dr</td>\n",
       "    </tr>\n",
       "    <tr>\n",
       "      <th>82729</th>\n",
       "      <td>7489</td>\n",
       "      <td>phút</td>\n",
       "      <td>O</td>\n",
       "      <td>E-dr</td>\n",
       "    </tr>\n",
       "    <tr>\n",
       "      <th>82730</th>\n",
       "      <td>7489</td>\n",
       "      <td>đi</td>\n",
       "      <td>O</td>\n",
       "      <td>O</td>\n",
       "    </tr>\n",
       "  </tbody>\n",
       "</table>\n",
       "<p>82731 rows × 4 columns</p>\n",
       "</div>"
      ],
      "text/plain": [
       "       Sentence #   Word POS    Tag\n",
       "0               0    cái   O      O\n",
       "1               0    đèn   O   B-dv\n",
       "2               0  tranh   O   E-dv\n",
       "3               0  trong   O      O\n",
       "4               0    nhà   O  B-loc\n",
       "...           ...    ...  ..    ...\n",
       "82726        7489      2   O   B-dr\n",
       "82727        7489  tiếng   O   I-dr\n",
       "82728        7489     56   O   I-dr\n",
       "82729        7489   phút   O   E-dr\n",
       "82730        7489     đi   O      O\n",
       "\n",
       "[82731 rows x 4 columns]"
      ]
     },
     "execution_count": 4,
     "metadata": {},
     "output_type": "execute_result"
    }
   ],
   "source": [
    "data"
   ]
  },
  {
   "cell_type": "code",
   "execution_count": 7,
   "id": "bac126f7",
   "metadata": {},
   "outputs": [
    {
     "data": {
      "image/png": "[encoded data removed]",
      "text/plain": [
       "<Figure size 700x500 with 1 Axes>"
      ]
     },
     "metadata": {},
     "output_type": "display_data"
    }
   ],
   "source": [
    "tag_counts = data['Tag'].value_counts()\n",
    "plt.figure(figsize=(7, 5))\n",
    "tag_counts.plot(kind='bar', color='skyblue', edgecolor='black')\n",
    "plt.title('Số lượng của mỗi nhãn (Tag)', fontsize=16)\n",
    "plt.xlabel('Nhãn (Tag)', fontsize=14)\n",
    "plt.ylabel('Số lượng', fontsize=14)\n",
    "plt.xticks(rotation=45, fontsize=12)\n",
    "plt.tight_layout()\n",
    "plt.show()\n"
   ]
  },
  {
   "cell_type": "code",
   "execution_count": 15,
   "id": "76692cc5",
   "metadata": {},
   "outputs": [],
   "source": [
    "RE_TAGS = {\n",
    "  'cv':'changing value',\n",
    "  'cm':'command',\n",
    "  'dv':'device',\n",
    "  'dr':'duration',\n",
    "  'loc':'location',\n",
    "  'sc':'scene',\n",
    "  'tn':'target number',\n",
    "  'ta':'time at'\n",
    "}\n",
    "\n",
    "data['Re_tag'] = data['Tag'].apply(lambda x : RE_TAGS[x.split(\"-\")[1]] if x!='O' else 'O')"
   ]
  },
  {
   "cell_type": "code",
   "execution_count": 19,
   "id": "611ed9c3",
   "metadata": {},
   "outputs": [
    {
     "data": {
      "text/html": [
       "<div>\n",
       "<style scoped>\n",
       "    .dataframe tbody tr th:only-of-type {\n",
       "        vertical-align: middle;\n",
       "    }\n",
       "\n",
       "    .dataframe tbody tr th {\n",
       "        vertical-align: top;\n",
       "    }\n",
       "\n",
       "    .dataframe thead th {\n",
       "        text-align: right;\n",
       "    }\n",
       "</style>\n",
       "<table border=\"1\" class=\"dataframe\">\n",
       "  <thead>\n",
       "    <tr style=\"text-align: right;\">\n",
       "      <th></th>\n",
       "      <th>Sentence #</th>\n",
       "      <th>Word</th>\n",
       "      <th>POS</th>\n",
       "      <th>Tag</th>\n",
       "      <th>Re_tag</th>\n",
       "    </tr>\n",
       "  </thead>\n",
       "  <tbody>\n",
       "    <tr>\n",
       "      <th>0</th>\n",
       "      <td>0</td>\n",
       "      <td>cái</td>\n",
       "      <td>O</td>\n",
       "      <td>O</td>\n",
       "      <td>O</td>\n",
       "    </tr>\n",
       "    <tr>\n",
       "      <th>1</th>\n",
       "      <td>0</td>\n",
       "      <td>đèn</td>\n",
       "      <td>O</td>\n",
       "      <td>B-dv</td>\n",
       "      <td>device</td>\n",
       "    </tr>\n",
       "    <tr>\n",
       "      <th>2</th>\n",
       "      <td>0</td>\n",
       "      <td>tranh</td>\n",
       "      <td>O</td>\n",
       "      <td>E-dv</td>\n",
       "      <td>device</td>\n",
       "    </tr>\n",
       "    <tr>\n",
       "      <th>3</th>\n",
       "      <td>0</td>\n",
       "      <td>trong</td>\n",
       "      <td>O</td>\n",
       "      <td>O</td>\n",
       "      <td>O</td>\n",
       "    </tr>\n",
       "    <tr>\n",
       "      <th>4</th>\n",
       "      <td>0</td>\n",
       "      <td>nhà</td>\n",
       "      <td>O</td>\n",
       "      <td>B-loc</td>\n",
       "      <td>location</td>\n",
       "    </tr>\n",
       "    <tr>\n",
       "      <th>...</th>\n",
       "      <td>...</td>\n",
       "      <td>...</td>\n",
       "      <td>...</td>\n",
       "      <td>...</td>\n",
       "      <td>...</td>\n",
       "    </tr>\n",
       "    <tr>\n",
       "      <th>82726</th>\n",
       "      <td>7489</td>\n",
       "      <td>2</td>\n",
       "      <td>O</td>\n",
       "      <td>B-dr</td>\n",
       "      <td>duration</td>\n",
       "    </tr>\n",
       "    <tr>\n",
       "      <th>82727</th>\n",
       "      <td>7489</td>\n",
       "      <td>tiếng</td>\n",
       "      <td>O</td>\n",
       "      <td>I-dr</td>\n",
       "      <td>duration</td>\n",
       "    </tr>\n",
       "    <tr>\n",
       "      <th>82728</th>\n",
       "      <td>7489</td>\n",
       "      <td>56</td>\n",
       "      <td>O</td>\n",
       "      <td>I-dr</td>\n",
       "      <td>duration</td>\n",
       "    </tr>\n",
       "    <tr>\n",
       "      <th>82729</th>\n",
       "      <td>7489</td>\n",
       "      <td>phút</td>\n",
       "      <td>O</td>\n",
       "      <td>E-dr</td>\n",
       "      <td>duration</td>\n",
       "    </tr>\n",
       "    <tr>\n",
       "      <th>82730</th>\n",
       "      <td>7489</td>\n",
       "      <td>đi</td>\n",
       "      <td>O</td>\n",
       "      <td>O</td>\n",
       "      <td>O</td>\n",
       "    </tr>\n",
       "  </tbody>\n",
       "</table>\n",
       "<p>82731 rows × 5 columns</p>\n",
       "</div>"
      ],
      "text/plain": [
       "       Sentence #   Word POS    Tag    Re_tag\n",
       "0               0    cái   O      O         O\n",
       "1               0    đèn   O   B-dv    device\n",
       "2               0  tranh   O   E-dv    device\n",
       "3               0  trong   O      O         O\n",
       "4               0    nhà   O  B-loc  location\n",
       "...           ...    ...  ..    ...       ...\n",
       "82726        7489      2   O   B-dr  duration\n",
       "82727        7489  tiếng   O   I-dr  duration\n",
       "82728        7489     56   O   I-dr  duration\n",
       "82729        7489   phút   O   E-dr  duration\n",
       "82730        7489     đi   O      O         O\n",
       "\n",
       "[82731 rows x 5 columns]"
      ]
     },
     "execution_count": 19,
     "metadata": {},
     "output_type": "execute_result"
    }
   ],
   "source": [
    "data"
   ]
  },
  {
   "cell_type": "code",
   "execution_count": 26,
   "id": "b305326a",
   "metadata": {},
   "outputs": [
    {
     "data": {
      "image/png": "[encoded data removed]",
      "text/plain": [
       "<Figure size 500x400 with 1 Axes>"
      ]
     },
     "metadata": {},
     "output_type": "display_data"
    }
   ],
   "source": [
    "tag_counts = data['Re_tag'].value_counts()\n",
    "plt.figure(figsize=(5, 4))\n",
    "tag_counts.plot(kind='bar', color='skyblue', edgecolor='black')\n",
    "plt.title('Số lượng của mỗi nhãn (Tag)', fontsize=16)\n",
    "plt.xlabel('Nhãn (Tag)', fontsize=14)\n",
    "plt.ylabel('Số lượng', fontsize=14)\n",
    "plt.xticks(rotation=45, fontsize=12)\n",
    "plt.tight_layout()\n",
    "plt.show()\n"
   ]
  },
  {
   "cell_type": "markdown",
   "id": "d5f604ca",
   "metadata": {},
   "source": [
    "## Prepare data for training"
   ]
  },
  {
   "cell_type": "code",
   "execution_count": 5,
   "id": "5413599a-0e18-4839-b111-d1b4daf28d12",
   "metadata": {},
   "outputs": [],
   "source": [
    "class SentenceGetter(object):\n",
    "    def __init__(self, data):\n",
    "        self.n_sent=1\n",
    "        self.data=data\n",
    "        self.empty=False\n",
    "        agg_func=lambda s: [(w, t) for w, t in zip(s[\"Word\"].values.tolist(),s[\"Tag\"].values.tolist())]\n",
    "        self.grouped=self.data.groupby(\"Sentence #\").apply(agg_func)\n",
    "        self.sentences=[s for s in self.grouped]\n",
    "    def get_next(self):\n",
    "        try:\n",
    "            s=self.grouped[\"{}\".format(self.n_sent)]\n",
    "            self.n_sent +=1\n",
    "            return s\n",
    "        except:\n",
    "            return None"
   ]
  },
  {
   "cell_type": "code",
   "execution_count": 6,
   "id": "565e5b53-1cc3-4f24-baa8-94fca6781518",
   "metadata": {},
   "outputs": [],
   "source": [
    "getter = SentenceGetter(data)\n",
    "sentences=[[word[0] for word in sentence] for sentence in getter.sentences]\n",
    "labels=[[tag[1] for tag in sentence] for sentence in getter.sentences]"
   ]
  },
  {
   "cell_type": "code",
   "execution_count": 11,
   "id": "e8e5b7e9",
   "metadata": {},
   "outputs": [],
   "source": [
    "sequences_sent = []\n",
    "for sentence in sentences:\n",
    "    text = \"\"\n",
    "    for word in sentence:\n",
    "        text += f\"{word} \"\n",
    "    sequences_sent.append(text.strip())\n",
    "     "
   ]
  },
  {
   "cell_type": "code",
   "execution_count": 6,
   "id": "1efe1195-eddc-450a-a4a9-ecd31ce04fbc",
   "metadata": {},
   "outputs": [],
   "source": [
    "# tag_values=list(set(data['Tag'].values))\n",
    "# tag_values.append('PAD')\n",
    "# tag2idx= {t: i for i, t in enumerate(tag_values)}\n",
    "# idx2tag = {v: k for k, v in tag2idx.items()}"
   ]
  },
  {
   "cell_type": "code",
   "execution_count": 8,
   "id": "7fad6e85",
   "metadata": {},
   "outputs": [],
   "source": [
    "# with open('tag_values.txt','w',encoding='utf-8') as f:\n",
    "#     for tag in tag_values:\n",
    "#         f.write(f\"{tag}\\n\")"
   ]
  },
  {
   "cell_type": "code",
   "execution_count": 14,
   "id": "2c47157f",
   "metadata": {},
   "outputs": [],
   "source": [
    "tag_values=[]\n",
    "with open('tag_values.txt','r', encoding='utf-8') as f:\n",
    "    for line in f.readlines():\n",
    "        tag_values.append(line.strip())\n",
    "tag2idx= {t: i for i, t in enumerate(tag_values)}\n",
    "idx2tag = {v: k for k, v in tag2idx.items()}"
   ]
  },
  {
   "cell_type": "code",
   "execution_count": 25,
   "id": "9365a6a3-5028-4549-985d-038799de85c4",
   "metadata": {},
   "outputs": [],
   "source": [
    "import torch\n",
    "from torch.utils.data import TensorDataset, DataLoader, RandomSampler, SequentialSampler\n",
    "from transformers import BertTokenizer\n",
    "\n",
    "from keras.preprocessing.sequence import pad_sequences # type: ignore\n",
    "from sklearn.model_selection import train_test_split\n",
    "from data_processor_pipeline.tokenize import *"
   ]
  },
  {
   "cell_type": "code",
   "execution_count": 26,
   "id": "9d1b73cd",
   "metadata": {},
   "outputs": [],
   "source": [
    "MAX_LEN = 30\n",
    "batch_size = 32"
   ]
  },
  {
   "cell_type": "code",
   "execution_count": 27,
   "id": "066dd44c",
   "metadata": {},
   "outputs": [],
   "source": [
    "tokenizer =BertTokenizer.from_pretrained('viet_bert_tokenizer', do_lower_case = False)\n",
    "#tokenizer.save_pretrained(\"./viet_bert_tokenizer\")"
   ]
  },
  {
   "cell_type": "code",
   "execution_count": 28,
   "id": "b9e8c298",
   "metadata": {},
   "outputs": [],
   "source": [
    "tokenized_and_preserver_labels = [\n",
    "    tokenize_and_preserve_labels(sent, labs, tokenizer)\n",
    "    for sent, labs in zip(sentences, labels)\n",
    "]"
   ]
  },
  {
   "cell_type": "code",
   "execution_count": 29,
   "id": "31646081",
   "metadata": {},
   "outputs": [],
   "source": [
    "tokenized_texts = [token_labels_pair[0] for token_labels_pair in tokenized_and_preserver_labels]\n",
    "labels = [token_labels_pair[1] for token_labels_pair in tokenized_and_preserver_labels]"
   ]
  },
  {
   "cell_type": "code",
   "execution_count": 30,
   "id": "6caff1e2",
   "metadata": {},
   "outputs": [],
   "source": [
    "input_ids = pad_sequences([tokenizer.convert_tokens_to_ids(txt) for txt in tokenized_texts],\n",
    "                          maxlen=MAX_LEN, dtype=\"long\", value=0.0,\n",
    "                          truncating='post', padding='post')"
   ]
  },
  {
   "cell_type": "code",
   "execution_count": 31,
   "id": "dd686318",
   "metadata": {},
   "outputs": [],
   "source": [
    "tags = pad_sequences([[tag2idx.get(l) for l in lab] for lab in labels],\n",
    "                     maxlen = MAX_LEN, value = tag2idx[\"PAD\"], padding=\"post\",\n",
    "                     dtype=\"long\", truncating = \"post\")"
   ]
  },
  {
   "cell_type": "code",
   "execution_count": 32,
   "id": "5bff5da8",
   "metadata": {},
   "outputs": [],
   "source": [
    "#attenation mask to ignore PAD token\n",
    "attention_masks = [[float(i != 0.0) for i in ii] for ii in input_ids]"
   ]
  },
  {
   "cell_type": "code",
   "execution_count": 42,
   "id": "174f758e-b160-45d4-a0c4-db35e2d26f78",
   "metadata": {},
   "outputs": [],
   "source": [
    "tr_inputs, val_inputs, tr_tags, val_tags = train_test_split(input_ids, tags,\n",
    "                                                            random_state=2018, test_size=0.1)\n",
    "tr_masks, val_masks, _, _ = train_test_split(attention_masks, input_ids,\n",
    "                                             random_state=2018, test_size=0.1)"
   ]
  },
  {
   "cell_type": "code",
   "execution_count": 43,
   "id": "9f4612de-bc3b-4a0a-846e-45fff3f8d2ea",
   "metadata": {},
   "outputs": [],
   "source": [
    "tr_inputs = torch.tensor(tr_inputs)\n",
    "val_inputs = torch.tensor(val_inputs)\n",
    "tr_tags = torch.tensor(tr_tags)\n",
    "val_tags = torch.tensor(val_tags)\n",
    "tr_masks = torch.tensor(tr_masks)\n",
    "val_masks = torch.tensor(val_masks)"
   ]
  },
  {
   "cell_type": "code",
   "execution_count": 44,
   "id": "33edf5ab-0938-4a87-962e-1d71137b011b",
   "metadata": {},
   "outputs": [],
   "source": [
    "train_data = TensorDataset(tr_inputs, tr_masks, tr_tags)\n",
    "train_sampler = RandomSampler(train_data)\n",
    "train_dataloader = DataLoader(train_data, sampler=train_sampler, batch_size=16)\n",
    "\n",
    "valid_data = TensorDataset(val_inputs, val_masks, val_tags)\n",
    "valid_sampler = SequentialSampler(valid_data)\n",
    "valid_dataloader = DataLoader(valid_data, sampler=valid_sampler, batch_size=16)"
   ]
  },
  {
   "cell_type": "markdown",
   "id": "54c3dc11",
   "metadata": {},
   "source": [
    "## Implement DL models"
   ]
  },
  {
   "cell_type": "markdown",
   "id": "3bdaf15a",
   "metadata": {},
   "source": [
    "### Sequence Model"
   ]
  },
  {
   "cell_type": "markdown",
   "id": "43c89e26-de1e-4b8d-b2b2-4781cd64cf68",
   "metadata": {},
   "source": [
    "#### RNN"
   ]
  },
  {
   "cell_type": "code",
   "execution_count": 48,
   "id": "a1b5289c",
   "metadata": {},
   "outputs": [],
   "source": [
    "import torch.nn as nn\n",
    "from transformers import get_linear_schedule_with_warmup\n",
    "from transformers import AdamW\n",
    "from torch.utils.tensorboard import SummaryWriter\n",
    "from build_model.build_rnn import *\n",
    "from trainer.trainer import *\n",
    "import shutil\n",
    "import os\n",
    "import pickle"
   ]
  },
  {
   "cell_type": "code",
   "execution_count": 49,
   "id": "3ad36459-843e-454a-afa9-6c7c8b286191",
   "metadata": {},
   "outputs": [],
   "source": [
    "device = torch.device('cuda' if torch.cuda.is_available() else 'cpu')\n",
    "model_RNN=RNN(30000, embedding_dim=768, output_dim=len(tag2idx)).to(device)\n",
    "# with open('model_architecture/RNN.pkl', 'wb') as f:\n",
    "#     pickle.dump(model_RNN, f)\n",
    "optimizer_RNN = AdamW(\n",
    "    model_RNN.parameters(),\n",
    "    lr=0.001,\n",
    "    eps=1e-8\n",
    ")\n",
    "epochs = 3\n",
    "max_grad_norm = 1.0\n",
    "total_steps = len(train_dataloader) * epochs\n",
    "scheduler = get_linear_schedule_with_warmup(\n",
    "    optimizer_RNN,\n",
    "    num_warmup_steps=0,\n",
    "    num_training_steps=total_steps\n",
    ")\n",
    "criterion=nn.CrossEntropyLoss()\n",
    "_trainer = trainer()\n",
    "if os.path.exists('logs/RNN'):\n",
    "    shutil.rmtree('logs/RNN')\n",
    "writer = SummaryWriter(log_dir='logs/RNN')"
   ]
  },
  {
   "cell_type": "code",
   "execution_count": 50,
   "id": "d558c356",
   "metadata": {},
   "outputs": [
    {
     "name": "stdout",
     "output_type": "stream",
     "text": [
      "Tổng số trọng số: 23107481\n",
      "Số trọng số huấn luyện: 23107481\n"
     ]
    }
   ],
   "source": [
    "total_params = sum(p.numel() for p in model_RNN.parameters())\n",
    "trainable_params = sum(p.numel() for p in model_RNN.parameters() if p.requires_grad)\n",
    "\n",
    "print(f\"Tổng số trọng số: {total_params}\")\n",
    "print(f\"Số trọng số huấn luyện: {trainable_params}\")\n"
   ]
  },
  {
   "cell_type": "code",
   "execution_count": 22,
   "id": "ad1ed7fb",
   "metadata": {},
   "outputs": [
    {
     "name": "stderr",
     "output_type": "stream",
     "text": [
      "TRAIN | Epoch: 1/3 | Iter: 413/413 | Error: 0/413 | Loss: 0.0201: 100%|\u001b[38;2;128;0;128m███████████████\u001b[0m| 413/413 [01:46<00:00,  3.86it/s]\u001b[0m\n"
     ]
    },
    {
     "name": "stdout",
     "output_type": "stream",
     "text": [
      "TEST | Epoch: 1/3 | Loss: 0.1153 | Accuracy: 0.9630\n"
     ]
    },
    {
     "name": "stderr",
     "output_type": "stream",
     "text": [
      "TRAIN | Epoch: 2/3 | Iter: 413/413 | Error: 0/413 | Loss: 0.0074: 100%|\u001b[38;2;128;0;128m███████████████\u001b[0m| 413/413 [01:48<00:00,  3.82it/s]\u001b[0m\n"
     ]
    },
    {
     "name": "stdout",
     "output_type": "stream",
     "text": [
      "TEST | Epoch: 2/3 | Loss: 0.0964 | Accuracy: 0.9652\n"
     ]
    },
    {
     "name": "stderr",
     "output_type": "stream",
     "text": [
      "TRAIN | Epoch: 3/3 | Iter: 413/413 | Error: 0/413 | Loss: 0.0067: 100%|\u001b[38;2;128;0;128m███████████████\u001b[0m| 413/413 [01:56<00:00,  3.56it/s]\u001b[0m\n"
     ]
    },
    {
     "name": "stdout",
     "output_type": "stream",
     "text": [
      "TEST | Epoch: 3/3 | Loss: 0.0932 | Accuracy: 0.9659\n"
     ]
    }
   ],
   "source": [
    "best_acc = 0\n",
    "for epoch in range(epochs):\n",
    "    _trainer.train(model_RNN, train_dataloader, epoch, epochs, writer, criterion, optimizer_RNN, scheduler, device, len(tag2idx), max_grad_norm)\n",
    "    val_loss, val_acc = _trainer.validation(model_RNN, valid_dataloader, criterion, device, len(tag2idx))\n",
    "    print(f\"TEST | Epoch: {epoch+1}/{epochs} | Loss: {val_loss:.4f} | Accuracy: {val_acc:.4f}\")\n",
    "    writer.add_scalar('Val/Loss', val_loss, epoch+1)\n",
    "    writer.add_scalar('Val/Acc', val_acc, epoch+1)\n",
    "    checkpoint = {\n",
    "        'model': model_RNN,\n",
    "        'model_state_dict': model_RNN.state_dict(),\n",
    "        'epoch': epoch+1,\n",
    "        'opimizer_state_dict': optimizer_RNN.state_dict(),\n",
    "    }\n",
    "    os.makedirs('model_state_dict/RNN', exist_ok=True)\n",
    "    torch.save(checkpoint, os.path.join('model_state_dict/RNN','last.pth'))\n",
    "    if val_acc>best_acc:\n",
    "        torch.save(checkpoint, os.path.join('model_state_dict/RNN','best.pth'))\n",
    "        best_acc=val_acc"
   ]
  },
  {
   "cell_type": "code",
   "execution_count": 23,
   "id": "954c7ae8",
   "metadata": {},
   "outputs": [],
   "source": [
    "tag_values=[]\n",
    "with open('tag_values.txt','r', encoding='utf-8') as f:\n",
    "    for line in f.readlines():\n",
    "        tag_values.append(line.strip())"
   ]
  },
  {
   "cell_type": "code",
   "execution_count": 23,
   "id": "0de57093-940e-420e-ba1a-19827174308e",
   "metadata": {},
   "outputs": [
    {
     "name": "stdout",
     "output_type": "stream",
     "text": [
      "tensor([[   2,  269,  173,  384,  248,  502, 1432, 3224,  154,   30,   45, 1144,\n",
      "          250,  307,   25, 2827,    1, 1170, 1947,    3]])\n"
     ]
    },
    {
     "data": {
      "text/plain": [
       "[{'type': 'command', 'filler': 'tăng'},\n",
       " {'type': 'device', 'filler': 'đèn chùm'},\n",
       " {'type': 'location', 'filler': 'đầu hè'},\n",
       " {'type': 'changing value', 'filler': '89'}]"
      ]
     },
     "execution_count": 23,
     "metadata": {},
     "output_type": "execute_result"
    }
   ],
   "source": [
    "import numpy as np\n",
    "import torch\n",
    "import pickle\n",
    "from transformers import BertTokenizer\n",
    "from inference.inference_ner import *\n",
    "from build_model.build_rnn import *\n",
    "device = torch.device('cuda' if torch.cuda.is_available() else 'cpu')\n",
    "# with open('model_architecture/RNN.pkl', 'rb') as f:\n",
    "#     model_RNN = pickle.load(f)\n",
    "#model_RNN=RNN(30000, embedding_dim=768, output_dim=25).to(device)\n",
    "tokenizer = BertTokenizer.from_pretrained('viet_bert_tokenizer',do_lower_case = False)\n",
    "state_dict = torch.load('model_state_dict/RNN/best.pth', map_location=device)\n",
    "model_RNN = state_dict['model']\n",
    "predict_ner(model_RNN, 'em tăng giúp chị cái đèn chùm ở đầu hè độ sáng đến 89% thôi nhé', tokenizer, tag_values)"
   ]
  },
  {
   "cell_type": "code",
   "execution_count": 24,
   "id": "94a60e71",
   "metadata": {},
   "outputs": [
    {
     "data": {
      "text/plain": [
       "{'Accuracy': 0.9659410430839003,\n",
       " 'Precision': 0.7900704872816426,\n",
       " 'Recall': 0.8645204560697518,\n",
       " 'F1-Score': 0.8256204963971175,\n",
       " 'Exact Match (EM)': 0.4435374149659864}"
      ]
     },
     "execution_count": 24,
     "metadata": {},
     "output_type": "execute_result"
    }
   ],
   "source": [
    "#model_RNN=RNN(30000, embedding_dim=768, output_dim=len(tag2idx)).to(device)\n",
    "#model_state_dict=torch.load('model_state_dict/RNN/model_RNN.pth', map_location=device)\n",
    "#model_RNN = torch.load('model_state_dict/RNN/model_RNN.pth', map_location=device)\n",
    "_trainer.evaluate_model(model_RNN.to(device), valid_dataloader, idx2tag, device)"
   ]
  },
  {
   "cell_type": "markdown",
   "id": "98152567",
   "metadata": {},
   "source": [
    "#### LSTM"
   ]
  },
  {
   "cell_type": "code",
   "execution_count": 2,
   "id": "e005b46f",
   "metadata": {},
   "outputs": [],
   "source": [
    "import torch\n",
    "import torch.nn\n",
    "from transformers import get_linear_schedule_with_warmup\n",
    "from transformers import AdamW\n",
    "\n",
    "from torch.utils.tensorboard import SummaryWriter\n",
    "from build_model.build_lstm import *\n",
    "from trainer.trainer import *\n",
    "import shutil, os, pickle"
   ]
  },
  {
   "cell_type": "code",
   "execution_count": 22,
   "id": "465bc41e",
   "metadata": {},
   "outputs": [],
   "source": [
    "device = torch.device('cuda' if torch.cuda.is_available() else 'cpu')\n",
    "model_LSTM = LSTM(30000, embedding_dim=768, bidirectional=False, output_dim=25).to(device)\n",
    "optimizer_LSTM = AdamW(\n",
    "    model_LSTM.parameters(),\n",
    "    lr = 0.001,\n",
    "    eps = 1e-8\n",
    ")\n",
    "epochs = 3\n",
    "max_grad_norm = 1.0\n",
    "total_steps = len(train_dataloader) * epochs\n",
    "scheduler = get_linear_schedule_with_warmup(\n",
    "    optimizer_LSTM,\n",
    "    num_warmup_steps=0,\n",
    "    num_training_steps=total_steps\n",
    ")\n",
    "criterion = nn.CrossEntropyLoss()\n",
    "_trainer = trainer()\n",
    "\n",
    "if os.path.exists('logs/LSTM'):\n",
    "    shutil.rmtree('logs/LSTM')\n",
    "writer = SummaryWriter(log_dir='logs/LSTM')"
   ]
  },
  {
   "cell_type": "code",
   "execution_count": 23,
   "id": "3eb8fbec",
   "metadata": {},
   "outputs": [
    {
     "name": "stderr",
     "output_type": "stream",
     "text": [
      "TRAIN | Epoch: 1/3 | Iter: 413/413 | Error: 0/413 | Loss: 0.0230: 100%|\u001b[38;2;128;0;128m███████████████\u001b[0m| 413/413 [01:57<00:00,  3.52it/s]\u001b[0m\n"
     ]
    },
    {
     "name": "stdout",
     "output_type": "stream",
     "text": [
      "TEST | Epoch: 1/3 | Loss: 0.0664 | Accuracy: 0.9792\n"
     ]
    },
    {
     "name": "stderr",
     "output_type": "stream",
     "text": [
      "TRAIN | Epoch: 2/3 | Iter: 413/413 | Error: 0/413 | Loss: 0.0031: 100%|\u001b[38;2;128;0;128m███████████████\u001b[0m| 413/413 [01:54<00:00,  3.60it/s]\u001b[0m\n"
     ]
    },
    {
     "name": "stdout",
     "output_type": "stream",
     "text": [
      "TEST | Epoch: 2/3 | Loss: 0.0351 | Accuracy: 0.9883\n"
     ]
    },
    {
     "name": "stderr",
     "output_type": "stream",
     "text": [
      "TRAIN | Epoch: 3/3 | Iter: 413/413 | Error: 0/413 | Loss: 0.0020: 100%|\u001b[38;2;128;0;128m███████████████\u001b[0m| 413/413 [01:57<00:00,  3.52it/s]\u001b[0m\n"
     ]
    },
    {
     "name": "stdout",
     "output_type": "stream",
     "text": [
      "TEST | Epoch: 3/3 | Loss: 0.0297 | Accuracy: 0.9921\n"
     ]
    }
   ],
   "source": [
    "best_acc = 0\n",
    "for epoch in range(epochs):\n",
    "    _trainer.train(\n",
    "        model_LSTM,\n",
    "        train_dataloader,\n",
    "        epoch,\n",
    "        epochs,\n",
    "        writer,\n",
    "        criterion,\n",
    "        optimizer_LSTM,\n",
    "        scheduler,\n",
    "        device,\n",
    "        len(tag2idx),\n",
    "        max_grad_norm\n",
    "    )\n",
    "    val_loss, val_acc = _trainer.validation(\n",
    "        model_LSTM,\n",
    "        valid_dataloader, \n",
    "        criterion,\n",
    "        device,\n",
    "        len(tag2idx)\n",
    "    )\n",
    "    print(f\"TEST | Epoch: {epoch+1}/{epochs} | Loss: {val_loss:.4f} | Accuracy: {val_acc:.4f}\")\n",
    "    writer.add_scalar('Val/Loss', val_loss, epoch+1)\n",
    "    writer.add_scalar('Val/Acc', val_acc, epoch+1)\n",
    "    checkpoint = {\n",
    "        'model': model_LSTM,\n",
    "        'model_state_dict': model_LSTM.state_dict(),\n",
    "        'epoch': epoch+1,\n",
    "        'optimizer_state_dict': optimizer_LSTM.state_dict()\n",
    "    }\n",
    "    os.makedirs('model_state_dict/LSTM', exist_ok=True)\n",
    "    torch.save(checkpoint, os.path.join('model_state_dict/LSTM', 'last.pth'))\n",
    "    if val_acc > best_acc:\n",
    "        torch.save(checkpoint, os.path.join('model_state_dict/LSTM', 'best.pth'))\n",
    "        best_acc = val_acc"
   ]
  },
  {
   "cell_type": "code",
   "execution_count": 28,
   "id": "c49e6c98",
   "metadata": {},
   "outputs": [
    {
     "data": {
      "text/plain": [
       "{'Accuracy': 0.9920634920634921,\n",
       " 'Precision': 0.9413691451031772,\n",
       " 'Recall': 0.9637826961770624,\n",
       " 'F1-Score': 0.9524440762220381,\n",
       " 'Exact Match (EM)': 0.8326530612244898}"
      ]
     },
     "execution_count": 28,
     "metadata": {},
     "output_type": "execute_result"
    }
   ],
   "source": [
    "#model_RNN=RNN(30000, embedding_dim=768, output_dim=len(tag2idx)).to(device)\n",
    "model_LSTM_load=torch.load('model_state_dict/LSTM/best.pth', map_location=device)['model']\n",
    "#model_RNN = torch.load('model_state_dict/RNN/model_RNN.pth', map_location=device)\n",
    "_trainer.evaluate_model(model_LSTM_load.to(device), valid_dataloader, idx2tag, device)"
   ]
  },
  {
   "cell_type": "code",
   "execution_count": 29,
   "id": "0ce9cf87",
   "metadata": {},
   "outputs": [],
   "source": [
    "tag_values=[]\n",
    "with open('tag_values.txt','r', encoding='utf-8') as f:\n",
    "    for line in f.readlines():\n",
    "        tag_values.append(line.strip())"
   ]
  },
  {
   "cell_type": "code",
   "execution_count": 30,
   "id": "077e6b09",
   "metadata": {},
   "outputs": [
    {
     "data": {
      "text/plain": [
       "[{'type': 'command', 'filler': 'tăng'},\n",
       " {'type': 'device', 'filler': 'đèn chùm'},\n",
       " {'type': 'location', 'filler': 'đầu hè'},\n",
       " {'type': 'changing value', 'filler': '89 %'}]"
      ]
     },
     "execution_count": 30,
     "metadata": {},
     "output_type": "execute_result"
    }
   ],
   "source": [
    "import numpy as np\n",
    "import torch\n",
    "import pickle\n",
    "from transformers import BertTokenizer\n",
    "from inference.inference_ner import *\n",
    "from build_model.build_rnn import *\n",
    "device = torch.device('cuda' if torch.cuda.is_available() else 'cpu')\n",
    "# with open('model_architecture/RNN.pkl', 'rb') as f:\n",
    "#     model_RNN = pickle.load(f)\n",
    "#model_RNN=RNN(30000, embedding_dim=768, output_dim=25).to(device)\n",
    "tokenizer = BertTokenizer.from_pretrained('viet_bert_tokenizer',do_lower_case = False)\n",
    "state_dict = torch.load('model_state_dict/LSTM/best.pth', map_location=device)\n",
    "model_RNN = state_dict['model']\n",
    "predict_ner(model_RNN, 'em tăng giúp chị cái đèn chùm ở đầu hè độ sáng đến 89% thôi nhé', tokenizer, tag_values)"
   ]
  },
  {
   "cell_type": "markdown",
   "id": "3240501a",
   "metadata": {},
   "source": [
    "#### BiLSTM"
   ]
  },
  {
   "cell_type": "code",
   "execution_count": 33,
   "id": "d5857c12",
   "metadata": {},
   "outputs": [],
   "source": [
    "import torch\n",
    "import torch.nn\n",
    "from transformers import get_linear_schedule_with_warmup\n",
    "from transformers import AdamW\n",
    "\n",
    "from torch.utils.tensorboard import SummaryWriter\n",
    "from build_model.build_lstm import *\n",
    "from trainer.trainer import *\n",
    "import shutil, os, pickle"
   ]
  },
  {
   "cell_type": "code",
   "execution_count": 34,
   "id": "a895c07f",
   "metadata": {},
   "outputs": [],
   "source": [
    "device = torch.device('cuda' if torch.cuda.is_available() else 'cpu')\n",
    "model_BiLSTM = LSTM(30000, embedding_dim=768, bidirectional=True, output_dim=25).to(device)\n",
    "optimizer_BiLSTM = AdamW(\n",
    "    model_BiLSTM.parameters(),\n",
    "    lr = 0.001,\n",
    "    eps = 1e-8\n",
    ")\n",
    "epochs = 3\n",
    "max_grad_norm = 1.0\n",
    "total_steps = len(train_dataloader) * epochs\n",
    "scheduler = get_linear_schedule_with_warmup(\n",
    "    optimizer_BiLSTM,\n",
    "    num_warmup_steps=0,\n",
    "    num_training_steps=total_steps\n",
    ")\n",
    "criterion = nn.CrossEntropyLoss()\n",
    "_trainer = trainer()\n",
    "\n",
    "if os.path.exists('logs/BiLSTM'):\n",
    "    shutil.rmtree('logs/BiLSTM')\n",
    "writer = SummaryWriter(log_dir='logs/BiLSTM')"
   ]
  },
  {
   "cell_type": "code",
   "execution_count": 35,
   "id": "5cbb76ad",
   "metadata": {},
   "outputs": [
    {
     "name": "stderr",
     "output_type": "stream",
     "text": [
      "TRAIN | Epoch: 1/3 | Iter: 413/413 | Error: 0/413 | Loss: 0.0164: 100%|\u001b[38;2;128;0;128m███████████████\u001b[0m| 413/413 [02:25<00:00,  2.83it/s]\u001b[0m\n"
     ]
    },
    {
     "name": "stdout",
     "output_type": "stream",
     "text": [
      "TEST | Epoch: 1/3 | Loss: 0.0296 | Accuracy: 0.9898\n"
     ]
    },
    {
     "name": "stderr",
     "output_type": "stream",
     "text": [
      "TRAIN | Epoch: 2/3 | Iter: 413/413 | Error: 0/413 | Loss: 0.0013: 100%|\u001b[38;2;128;0;128m███████████████\u001b[0m| 413/413 [02:51<00:00,  2.40it/s]\u001b[0m\n"
     ]
    },
    {
     "name": "stdout",
     "output_type": "stream",
     "text": [
      "TEST | Epoch: 2/3 | Loss: 0.0163 | Accuracy: 0.9948\n"
     ]
    },
    {
     "name": "stderr",
     "output_type": "stream",
     "text": [
      "TRAIN | Epoch: 3/3 | Iter: 413/413 | Error: 0/413 | Loss: 0.0008: 100%|\u001b[38;2;128;0;128m███████████████\u001b[0m| 413/413 [02:32<00:00,  2.70it/s]\u001b[0m\n"
     ]
    },
    {
     "name": "stdout",
     "output_type": "stream",
     "text": [
      "TEST | Epoch: 3/3 | Loss: 0.0143 | Accuracy: 0.9962\n"
     ]
    }
   ],
   "source": [
    "best_acc = 0\n",
    "for epoch in range(epochs):\n",
    "    _trainer.train(\n",
    "        model_BiLSTM,\n",
    "        train_dataloader,\n",
    "        epoch,\n",
    "        epochs,\n",
    "        writer,\n",
    "        criterion,\n",
    "        optimizer_BiLSTM,\n",
    "        scheduler,\n",
    "        device,\n",
    "        len(tag2idx),\n",
    "        max_grad_norm\n",
    "    )\n",
    "    val_loss, val_acc = _trainer.validation(\n",
    "        model_BiLSTM,\n",
    "        valid_dataloader, \n",
    "        criterion,\n",
    "        device,\n",
    "        len(tag2idx)\n",
    "    )\n",
    "    print(f\"TEST | Epoch: {epoch+1}/{epochs} | Loss: {val_loss:.4f} | Accuracy: {val_acc:.4f}\")\n",
    "    writer.add_scalar('Val/Loss', val_loss, epoch+1)\n",
    "    writer.add_scalar('Val/Acc', val_acc, epoch+1)\n",
    "    checkpoint = {\n",
    "        'model': model_BiLSTM,\n",
    "        'model_state_dict': model_BiLSTM.state_dict(),\n",
    "        'epoch': epoch+1,\n",
    "        'optimizer_state_dict': optimizer_BiLSTM.state_dict()\n",
    "    }\n",
    "    os.makedirs('model_state_dict/BiLSTM', exist_ok=True)\n",
    "    torch.save(checkpoint, os.path.join('model_state_dict/BiLSTM', 'last.pth'))\n",
    "    if val_acc > best_acc:\n",
    "        torch.save(checkpoint, os.path.join('model_state_dict/BiLSTM', 'best.pth'))\n",
    "        best_acc = val_acc"
   ]
  },
  {
   "cell_type": "code",
   "execution_count": 36,
   "id": "ce1c8238",
   "metadata": {},
   "outputs": [
    {
     "data": {
      "text/plain": [
       "{'Accuracy': 0.9962358276643991,\n",
       " 'Precision': 0.9770764119601328,\n",
       " 'Recall': 0.9862508383635145,\n",
       " 'F1-Score': 0.9816421895861148,\n",
       " 'Exact Match (EM)': 0.9319727891156463}"
      ]
     },
     "execution_count": 36,
     "metadata": {},
     "output_type": "execute_result"
    }
   ],
   "source": [
    "#model_RNN=RNN(30000, embedding_dim=768, output_dim=len(tag2idx)).to(device)\n",
    "model_BiLSTM_load=torch.load('model_state_dict/BiLSTM/best.pth', map_location=device)['model']\n",
    "#model_RNN = torch.load('model_state_dict/RNN/model_RNN.pth', map_location=device)\n",
    "_trainer.evaluate_model(model_BiLSTM_load.to(device), valid_dataloader, idx2tag, device)"
   ]
  },
  {
   "cell_type": "code",
   "execution_count": 26,
   "id": "4435d878",
   "metadata": {},
   "outputs": [
    {
     "data": {
      "text/plain": [
       "[{'type': 'command', 'filler': 'tăng'},\n",
       " {'type': 'device', 'filler': 'đèn chùm'},\n",
       " {'type': 'location', 'filler': 'đầu hè'},\n",
       " {'type': 'changing value', 'filler': '89 %'}]"
      ]
     },
     "execution_count": 26,
     "metadata": {},
     "output_type": "execute_result"
    }
   ],
   "source": [
    "import numpy as np\n",
    "import torch\n",
    "import pickle\n",
    "from transformers import BertTokenizer\n",
    "from inference.inference_ner import *\n",
    "from build_model.build_rnn import *\n",
    "device = torch.device('cuda' if torch.cuda.is_available() else 'cpu')\n",
    "# with open('model_architecture/RNN.pkl', 'rb') as f:\n",
    "#     model_RNN = pickle.load(f)\n",
    "#model_RNN=RNN(30000, embedding_dim=768, output_dim=25).to(device)\n",
    "tokenizer = BertTokenizer.from_pretrained('viet_bert_tokenizer',do_lower_case = False)\n",
    "state_dict = torch.load('model_state_dict/BiLSTM/best.pth', map_location=device)\n",
    "model_BiLSTM = state_dict['model']\n",
    "predict_ner(model_BiLSTM, 'em tăng giúp chị cái đèn chùm ở đầu hè độ sáng đến 89% thôi nhé', tokenizer, tag_values)"
   ]
  },
  {
   "cell_type": "markdown",
   "id": "ea1d7606",
   "metadata": {},
   "source": [
    "#### GRU"
   ]
  },
  {
   "cell_type": "code",
   "execution_count": 2,
   "id": "39cd940d",
   "metadata": {},
   "outputs": [],
   "source": [
    "import torch\n",
    "import torch.nn as nn\n",
    "from transformers import get_linear_schedule_with_warmup\n",
    "from transformers import AdamW\n",
    "\n",
    "from torch.utils.tensorboard import SummaryWriter\n",
    "from build_model.build_gru import *\n",
    "from trainer.trainer import *\n",
    "import shutil, os, pickle"
   ]
  },
  {
   "cell_type": "code",
   "execution_count": 21,
   "id": "0af34b67",
   "metadata": {},
   "outputs": [],
   "source": [
    "device = torch.device('cuda' if torch.cuda.is_available() else 'cpu')\n",
    "model_GRU = GRU(30000, embedding_dim=768, output_dim=25)\n",
    "optimizer_GRU = AdamW(\n",
    "    model_GRU.parameters(),\n",
    "    lr=0.001,\n",
    "    eps=1e-8\n",
    ")\n",
    "\n",
    "epochs = 3\n",
    "max_grad_norm = 1.0\n",
    "total_steps = len(train_dataloader) * epochs\n",
    "scheduler = get_linear_schedule_with_warmup(\n",
    "    optimizer_GRU,\n",
    "    num_warmup_steps=0,\n",
    "    num_training_steps=total_steps\n",
    ")\n",
    "\n",
    "criterion = nn.CrossEntropyLoss()\n",
    "_trainer= trainer()\n",
    "\n",
    "if os.path.exists('logs/GRU'):\n",
    "    shutil.rmtree('logs/GRU')\n",
    "writer = SummaryWriter(log_dir='logs/GRU')"
   ]
  },
  {
   "cell_type": "code",
   "execution_count": 22,
   "id": "f3b9e85b",
   "metadata": {},
   "outputs": [
    {
     "name": "stderr",
     "output_type": "stream",
     "text": [
      "TRAIN | Epoch: 1/3 | Iter: 413/413 | Error: 0/413 | Loss: 0.0137: 100%|\u001b[38;2;128;0;128m███████████████\u001b[0m| 413/413 [02:34<00:00,  2.68it/s]\u001b[0m\n"
     ]
    },
    {
     "name": "stdout",
     "output_type": "stream",
     "text": [
      "TEST | Epoch: 1/3 | Loss: 0.0415 | Accuracy: 0.9887\n"
     ]
    },
    {
     "name": "stderr",
     "output_type": "stream",
     "text": [
      "TRAIN | Epoch: 2/3 | Iter: 413/413 | Error: 0/413 | Loss: 0.0020: 100%|\u001b[38;2;128;0;128m███████████████\u001b[0m| 413/413 [02:06<00:00,  3.26it/s]\u001b[0m\n"
     ]
    },
    {
     "name": "stdout",
     "output_type": "stream",
     "text": [
      "TEST | Epoch: 2/3 | Loss: 0.0285 | Accuracy: 0.9908\n"
     ]
    },
    {
     "name": "stderr",
     "output_type": "stream",
     "text": [
      "TRAIN | Epoch: 3/3 | Iter: 413/413 | Error: 0/413 | Loss: 0.0015: 100%|\u001b[38;2;128;0;128m███████████████\u001b[0m| 413/413 [01:55<00:00,  3.56it/s]\u001b[0m\n"
     ]
    },
    {
     "name": "stdout",
     "output_type": "stream",
     "text": [
      "TEST | Epoch: 3/3 | Loss: 0.0250 | Accuracy: 0.9925\n"
     ]
    }
   ],
   "source": [
    "best_acc = 0\n",
    "for epoch in range(epochs):\n",
    "    _trainer.train(\n",
    "        model_GRU,\n",
    "        train_dataloader,\n",
    "        epoch,\n",
    "        epochs,\n",
    "        writer,\n",
    "        criterion,\n",
    "        optimizer_GRU, \n",
    "        scheduler,\n",
    "        device,\n",
    "        len(tag2idx),\n",
    "        max_grad_norm\n",
    "    )\n",
    "    val_loss, val_acc = _trainer.validation(\n",
    "        model_GRU,\n",
    "        valid_dataloader,\n",
    "        criterion,\n",
    "        device,\n",
    "        len(tag2idx)\n",
    "    )\n",
    "    print(f\"TEST | Epoch: {epoch+1}/{epochs} | Loss: {val_loss:.4f} | Accuracy: {val_acc:.4f}\")\n",
    "    writer.add_scalar('Val/Loss', val_loss, epoch+1)\n",
    "    writer.add_scalar('Val/Acc', val_acc, epoch+1)\n",
    "    checkpoint = {\n",
    "        'model': model_GRU,\n",
    "        'model_state_dict': model_GRU.state_dict(),\n",
    "        'epoch': epoch+1,\n",
    "        'optimizer_state_dict': optimizer_GRU.state_dict()\n",
    "    }\n",
    "    os.makedirs('model_state_dict/GRU', exist_ok=True)\n",
    "    torch.save(checkpoint, os.path.join('model_state_dict/GRU', 'last.pth'))\n",
    "    if val_acc > best_acc:\n",
    "        torch.save(checkpoint, os.path.join('model_state_dict/GRU', 'best.pth'))\n",
    "        best_acc = val_acc"
   ]
  },
  {
   "cell_type": "code",
   "execution_count": 24,
   "id": "7918c055",
   "metadata": {},
   "outputs": [
    {
     "data": {
      "text/plain": [
       "{'Accuracy': 0.9924716553287982,\n",
       " 'Precision': 0.9464052287581699,\n",
       " 'Recall': 0.9711602951039571,\n",
       " 'F1-Score': 0.9586229725256538,\n",
       " 'Exact Match (EM)': 0.8435374149659864}"
      ]
     },
     "execution_count": 24,
     "metadata": {},
     "output_type": "execute_result"
    }
   ],
   "source": [
    "model_GRU_load = torch.load('model_state_dict/GRU/best.pth', map_location = device)['model']\n",
    "_trainer.evaluate_model(model_GRU_load.to(device), valid_dataloader, idx2tag, device)"
   ]
  },
  {
   "cell_type": "code",
   "execution_count": 27,
   "id": "196a5c30",
   "metadata": {},
   "outputs": [
    {
     "data": {
      "text/plain": [
       "[{'type': 'command', 'filler': 'tăng'},\n",
       " {'type': 'device', 'filler': 'đèn chùm'},\n",
       " {'type': 'location', 'filler': 'đầu hè'},\n",
       " {'type': 'changing value', 'filler': '89 %'}]"
      ]
     },
     "execution_count": 27,
     "metadata": {},
     "output_type": "execute_result"
    }
   ],
   "source": [
    "import numpy as np\n",
    "import torch\n",
    "import pickle\n",
    "from transformers import BertTokenizer\n",
    "from inference.inference_ner import *\n",
    "from build_model.build_rnn import *\n",
    "device = torch.device('cuda' if torch.cuda.is_available() else 'cpu')\n",
    "# with open('model_architecture/RNN.pkl', 'rb') as f:\n",
    "#     model_RNN = pickle.load(f)\n",
    "#model_RNN=RNN(30000, embedding_dim=768, output_dim=25).to(device)\n",
    "tokenizer = BertTokenizer.from_pretrained('viet_bert_tokenizer',do_lower_case = False)\n",
    "state_dict = torch.load('model_state_dict/GRU/best.pth', map_location=device)\n",
    "model_BiLSTM = state_dict['model']\n",
    "predict_ner(model_BiLSTM, 'em tăng giúp chị cái đèn chùm ở đầu hè độ sáng đến 89% thôi nhé', tokenizer, tag_values)"
   ]
  },
  {
   "cell_type": "markdown",
   "id": "d3342b66",
   "metadata": {},
   "source": [
    "### LM using Attention mechanism"
   ]
  },
  {
   "cell_type": "markdown",
   "id": "b89dccbe",
   "metadata": {},
   "source": [
    "#### Bert"
   ]
  },
  {
   "cell_type": "code",
   "execution_count": 1,
   "id": "206b0331",
   "metadata": {},
   "outputs": [],
   "source": [
    "import torch\n",
    "import torch.nn as nn\n",
    "import torch.optim as optim"
   ]
  },
  {
   "cell_type": "code",
   "execution_count": 66,
   "id": "068e28cd",
   "metadata": {},
   "outputs": [
    {
     "data": {
      "text/plain": [
       "BERTClassifier(\n",
       "  (phobert): BertModel(\n",
       "    (embeddings): BertEmbeddings(\n",
       "      (word_embeddings): Embedding(30522, 768, padding_idx=0)\n",
       "      (position_embeddings): Embedding(512, 768)\n",
       "      (token_type_embeddings): Embedding(2, 768)\n",
       "      (LayerNorm): LayerNorm((768,), eps=1e-12, elementwise_affine=True)\n",
       "      (dropout): Dropout(p=0.1, inplace=False)\n",
       "    )\n",
       "    (encoder): BertEncoder(\n",
       "      (layer): ModuleList(\n",
       "        (0-11): 12 x BertLayer(\n",
       "          (attention): BertAttention(\n",
       "            (self): BertSdpaSelfAttention(\n",
       "              (query): Linear(in_features=768, out_features=768, bias=True)\n",
       "              (key): Linear(in_features=768, out_features=768, bias=True)\n",
       "              (value): Linear(in_features=768, out_features=768, bias=True)\n",
       "              (dropout): Dropout(p=0.1, inplace=False)\n",
       "            )\n",
       "            (output): BertSelfOutput(\n",
       "              (dense): Linear(in_features=768, out_features=768, bias=True)\n",
       "              (LayerNorm): LayerNorm((768,), eps=1e-12, elementwise_affine=True)\n",
       "              (dropout): Dropout(p=0.1, inplace=False)\n",
       "            )\n",
       "          )\n",
       "          (intermediate): BertIntermediate(\n",
       "            (dense): Linear(in_features=768, out_features=3072, bias=True)\n",
       "            (intermediate_act_fn): GELUActivation()\n",
       "          )\n",
       "          (output): BertOutput(\n",
       "            (dense): Linear(in_features=3072, out_features=768, bias=True)\n",
       "            (LayerNorm): LayerNorm((768,), eps=1e-12, elementwise_affine=True)\n",
       "            (dropout): Dropout(p=0.1, inplace=False)\n",
       "          )\n",
       "        )\n",
       "      )\n",
       "    )\n",
       "    (pooler): BertPooler(\n",
       "      (dense): Linear(in_features=768, out_features=768, bias=True)\n",
       "      (activation): Tanh()\n",
       "    )\n",
       "  )\n",
       "  (classifier): Linear(in_features=768, out_features=25, bias=True)\n",
       ")"
      ]
     },
     "execution_count": 66,
     "metadata": {},
     "output_type": "execute_result"
    }
   ],
   "source": [
    "from transformers import AutoModel\n",
    "from torch.utils.tensorboard import SummaryWriter\n",
    "import shutil, os\n",
    "from trainer.trainer_bert import *\n",
    "\n",
    "device = torch.device(\"cuda\" if torch.cuda.is_available() else \"cpu\")\n",
    "class BERTClassifier(nn.Module):\n",
    "    def __init__(self, phobert_model_name, num_labels):\n",
    "        super(BERTClassifier, self).__init__()\n",
    "        self.phobert = AutoModel.from_pretrained(phobert_model_name)\n",
    "        self.classifier = nn.Linear(self.phobert.config.hidden_size, num_labels)\n",
    "    \n",
    "    def forward(self, input_ids, attention_mask):\n",
    "        outputs = self.phobert(input_ids=input_ids, attention_mask=attention_mask)\n",
    "        cls_output = outputs.last_hidden_state\n",
    "        # Sử dụng embedding của token [CLS]\n",
    "        logits = self.classifier(cls_output)\n",
    "        return logits\n",
    "\n",
    "bert_base_model = BERTClassifier(\"bert-base-uncased\", num_labels=25).to(device)\n",
    "optimizer_bert = torch.optim.AdamW(bert_base_model.parameters(), lr=2e-5)\n",
    "criterion = nn.CrossEntropyLoss()\n",
    "if os.path.exists('logs/bert-base'):\n",
    "    shutil.rmtree('logs/bert_base')\n",
    "writer = SummaryWriter(log_dir='logs/bert_base')\n",
    "_trainer = trainer()\n",
    "bert_base_model"
   ]
  },
  {
   "cell_type": "code",
   "execution_count": 67,
   "id": "d1a795aa",
   "metadata": {},
   "outputs": [
    {
     "name": "stdout",
     "output_type": "stream",
     "text": [
      "Tổng số trọng số: 109501465\n",
      "Số trọng số huấn luyện: 109501465\n"
     ]
    }
   ],
   "source": [
    "total_params = sum(p.numel() for p in bert_base_model.parameters())\n",
    "trainable_params = sum(p.numel() for p in bert_base_model.parameters() if p.requires_grad)\n",
    "\n",
    "print(f\"Tổng số trọng số: {total_params}\")\n",
    "print(f\"Số trọng số huấn luyện: {trainable_params}\")\n"
   ]
  },
  {
   "cell_type": "code",
   "execution_count": 68,
   "id": "fd02d5dd",
   "metadata": {},
   "outputs": [
    {
     "name": "stderr",
     "output_type": "stream",
     "text": [
      "TRAIN | Epoch: 1/3 | Iter: 6/413 | Error: 0/413 | Loss: 0.1317:   1%|\u001b[38;2;128;0;128m▎                  \u001b[0m| 6/413 [00:40<45:25,  6.70s/it]\u001b[0m\n"
     ]
    },
    {
     "ename": "KeyboardInterrupt",
     "evalue": "",
     "output_type": "error",
     "traceback": [
      "\u001b[1;31m---------------------------------------------------------------------------\u001b[0m",
      "\u001b[1;31mKeyboardInterrupt\u001b[0m                         Traceback (most recent call last)",
      "Cell \u001b[1;32mIn[68], line 3\u001b[0m\n\u001b[0;32m      1\u001b[0m best_acc \u001b[38;5;241m=\u001b[39m \u001b[38;5;241m0\u001b[39m\n\u001b[0;32m      2\u001b[0m \u001b[38;5;28;01mfor\u001b[39;00m epoch \u001b[38;5;129;01min\u001b[39;00m \u001b[38;5;28mrange\u001b[39m(epochs):\n\u001b[1;32m----> 3\u001b[0m     \u001b[43m_trainer\u001b[49m\u001b[38;5;241;43m.\u001b[39;49m\u001b[43mtrain\u001b[49m\u001b[43m(\u001b[49m\n\u001b[0;32m      4\u001b[0m \u001b[43m        \u001b[49m\u001b[43mbert_base_model\u001b[49m\u001b[43m,\u001b[49m\n\u001b[0;32m      5\u001b[0m \u001b[43m        \u001b[49m\u001b[43mtrain_dataloader\u001b[49m\u001b[43m,\u001b[49m\n\u001b[0;32m      6\u001b[0m \u001b[43m        \u001b[49m\u001b[43mepoch\u001b[49m\u001b[43m,\u001b[49m\n\u001b[0;32m      7\u001b[0m \u001b[43m        \u001b[49m\u001b[43mepochs\u001b[49m\u001b[43m,\u001b[49m\n\u001b[0;32m      8\u001b[0m \u001b[43m        \u001b[49m\u001b[43mwriter\u001b[49m\u001b[43m,\u001b[49m\n\u001b[0;32m      9\u001b[0m \u001b[43m        \u001b[49m\u001b[43mcriterion\u001b[49m\u001b[43m,\u001b[49m\n\u001b[0;32m     10\u001b[0m \u001b[43m        \u001b[49m\u001b[43moptimizer_bert\u001b[49m\u001b[43m,\u001b[49m\u001b[43m \u001b[49m\n\u001b[0;32m     11\u001b[0m \u001b[43m        \u001b[49m\u001b[43mscheduler\u001b[49m\u001b[43m,\u001b[49m\n\u001b[0;32m     12\u001b[0m \u001b[43m        \u001b[49m\u001b[43mdevice\u001b[49m\u001b[43m,\u001b[49m\n\u001b[0;32m     13\u001b[0m \u001b[43m        \u001b[49m\u001b[38;5;28;43mlen\u001b[39;49m\u001b[43m(\u001b[49m\u001b[43mtag2idx\u001b[49m\u001b[43m)\u001b[49m\u001b[43m,\u001b[49m\n\u001b[0;32m     14\u001b[0m \u001b[43m        \u001b[49m\u001b[43mmax_grad_norm\u001b[49m\n\u001b[0;32m     15\u001b[0m \u001b[43m    \u001b[49m\u001b[43m)\u001b[49m\n\u001b[0;32m     16\u001b[0m     val_loss, val_acc \u001b[38;5;241m=\u001b[39m _trainer\u001b[38;5;241m.\u001b[39mvalidation(\n\u001b[0;32m     17\u001b[0m         bert_base_model,\n\u001b[0;32m     18\u001b[0m         valid_dataloader,\n\u001b[1;32m   (...)\u001b[0m\n\u001b[0;32m     21\u001b[0m         \u001b[38;5;28mlen\u001b[39m(tag2idx)\n\u001b[0;32m     22\u001b[0m     )\n\u001b[0;32m     23\u001b[0m     \u001b[38;5;28mprint\u001b[39m(\u001b[38;5;124mf\u001b[39m\u001b[38;5;124m\"\u001b[39m\u001b[38;5;124mTEST | Epoch: \u001b[39m\u001b[38;5;132;01m{\u001b[39;00mepoch\u001b[38;5;241m+\u001b[39m\u001b[38;5;241m1\u001b[39m\u001b[38;5;132;01m}\u001b[39;00m\u001b[38;5;124m/\u001b[39m\u001b[38;5;132;01m{\u001b[39;00mepochs\u001b[38;5;132;01m}\u001b[39;00m\u001b[38;5;124m | Loss: \u001b[39m\u001b[38;5;132;01m{\u001b[39;00mval_loss\u001b[38;5;132;01m:\u001b[39;00m\u001b[38;5;124m.4f\u001b[39m\u001b[38;5;132;01m}\u001b[39;00m\u001b[38;5;124m | Accuracy: \u001b[39m\u001b[38;5;132;01m{\u001b[39;00mval_acc\u001b[38;5;132;01m:\u001b[39;00m\u001b[38;5;124m.4f\u001b[39m\u001b[38;5;132;01m}\u001b[39;00m\u001b[38;5;124m\"\u001b[39m)\n",
      "File \u001b[1;32md:\\IT\\Major\\NLP\\VN-SLU v2\\trainer\\trainer_bert.py:47\u001b[0m, in \u001b[0;36mtrainer.train\u001b[1;34m(self, model, dataloader, epoch, epochs, writer, criterion, optimizer, scheduler, device, length, max_grad_norm)\u001b[0m\n\u001b[0;32m     42\u001b[0m outputs \u001b[38;5;241m=\u001b[39m model(\n\u001b[0;32m     43\u001b[0m     input_ids\u001b[38;5;241m=\u001b[39mb_input_ids,\n\u001b[0;32m     44\u001b[0m     attention_mask\u001b[38;5;241m=\u001b[39mb_attention_mask\n\u001b[0;32m     45\u001b[0m )\n\u001b[0;32m     46\u001b[0m loss \u001b[38;5;241m=\u001b[39m criterion(outputs\u001b[38;5;241m.\u001b[39mview(\u001b[38;5;241m-\u001b[39m\u001b[38;5;241m1\u001b[39m, length), b_labels\u001b[38;5;241m.\u001b[39mview(\u001b[38;5;241m-\u001b[39m\u001b[38;5;241m1\u001b[39m)\u001b[38;5;241m.\u001b[39mlong())\n\u001b[1;32m---> 47\u001b[0m \u001b[43mloss\u001b[49m\u001b[38;5;241;43m.\u001b[39;49m\u001b[43mbackward\u001b[49m\u001b[43m(\u001b[49m\u001b[43m)\u001b[49m\n\u001b[0;32m     48\u001b[0m total_loss\u001b[38;5;241m+\u001b[39m\u001b[38;5;241m=\u001b[39mloss\u001b[38;5;241m.\u001b[39mitem()\n\u001b[0;32m     49\u001b[0m torch\u001b[38;5;241m.\u001b[39mnn\u001b[38;5;241m.\u001b[39mutils\u001b[38;5;241m.\u001b[39mclip_grad_norm_(parameters\u001b[38;5;241m=\u001b[39mmodel\u001b[38;5;241m.\u001b[39mparameters(), max_norm\u001b[38;5;241m=\u001b[39mmax_grad_norm)\n",
      "File \u001b[1;32mc:\\Users\\Admin\\AppData\\Local\\Programs\\Python\\Python311\\Lib\\site-packages\\torch\\_tensor.py:492\u001b[0m, in \u001b[0;36mTensor.backward\u001b[1;34m(self, gradient, retain_graph, create_graph, inputs)\u001b[0m\n\u001b[0;32m    482\u001b[0m \u001b[38;5;28;01mif\u001b[39;00m has_torch_function_unary(\u001b[38;5;28mself\u001b[39m):\n\u001b[0;32m    483\u001b[0m     \u001b[38;5;28;01mreturn\u001b[39;00m handle_torch_function(\n\u001b[0;32m    484\u001b[0m         Tensor\u001b[38;5;241m.\u001b[39mbackward,\n\u001b[0;32m    485\u001b[0m         (\u001b[38;5;28mself\u001b[39m,),\n\u001b[1;32m   (...)\u001b[0m\n\u001b[0;32m    490\u001b[0m         inputs\u001b[38;5;241m=\u001b[39minputs,\n\u001b[0;32m    491\u001b[0m     )\n\u001b[1;32m--> 492\u001b[0m \u001b[43mtorch\u001b[49m\u001b[38;5;241;43m.\u001b[39;49m\u001b[43mautograd\u001b[49m\u001b[38;5;241;43m.\u001b[39;49m\u001b[43mbackward\u001b[49m\u001b[43m(\u001b[49m\n\u001b[0;32m    493\u001b[0m \u001b[43m    \u001b[49m\u001b[38;5;28;43mself\u001b[39;49m\u001b[43m,\u001b[49m\u001b[43m \u001b[49m\u001b[43mgradient\u001b[49m\u001b[43m,\u001b[49m\u001b[43m \u001b[49m\u001b[43mretain_graph\u001b[49m\u001b[43m,\u001b[49m\u001b[43m \u001b[49m\u001b[43mcreate_graph\u001b[49m\u001b[43m,\u001b[49m\u001b[43m \u001b[49m\u001b[43minputs\u001b[49m\u001b[38;5;241;43m=\u001b[39;49m\u001b[43minputs\u001b[49m\n\u001b[0;32m    494\u001b[0m \u001b[43m\u001b[49m\u001b[43m)\u001b[49m\n",
      "File \u001b[1;32mc:\\Users\\Admin\\AppData\\Local\\Programs\\Python\\Python311\\Lib\\site-packages\\torch\\autograd\\__init__.py:251\u001b[0m, in \u001b[0;36mbackward\u001b[1;34m(tensors, grad_tensors, retain_graph, create_graph, grad_variables, inputs)\u001b[0m\n\u001b[0;32m    246\u001b[0m     retain_graph \u001b[38;5;241m=\u001b[39m create_graph\n\u001b[0;32m    248\u001b[0m \u001b[38;5;66;03m# The reason we repeat the same comment below is that\u001b[39;00m\n\u001b[0;32m    249\u001b[0m \u001b[38;5;66;03m# some Python versions print out the first line of a multi-line function\u001b[39;00m\n\u001b[0;32m    250\u001b[0m \u001b[38;5;66;03m# calls in the traceback and some print out the last line\u001b[39;00m\n\u001b[1;32m--> 251\u001b[0m \u001b[43mVariable\u001b[49m\u001b[38;5;241;43m.\u001b[39;49m\u001b[43m_execution_engine\u001b[49m\u001b[38;5;241;43m.\u001b[39;49m\u001b[43mrun_backward\u001b[49m\u001b[43m(\u001b[49m\u001b[43m  \u001b[49m\u001b[38;5;66;43;03m# Calls into the C++ engine to run the backward pass\u001b[39;49;00m\n\u001b[0;32m    252\u001b[0m \u001b[43m    \u001b[49m\u001b[43mtensors\u001b[49m\u001b[43m,\u001b[49m\n\u001b[0;32m    253\u001b[0m \u001b[43m    \u001b[49m\u001b[43mgrad_tensors_\u001b[49m\u001b[43m,\u001b[49m\n\u001b[0;32m    254\u001b[0m \u001b[43m    \u001b[49m\u001b[43mretain_graph\u001b[49m\u001b[43m,\u001b[49m\n\u001b[0;32m    255\u001b[0m \u001b[43m    \u001b[49m\u001b[43mcreate_graph\u001b[49m\u001b[43m,\u001b[49m\n\u001b[0;32m    256\u001b[0m \u001b[43m    \u001b[49m\u001b[43minputs\u001b[49m\u001b[43m,\u001b[49m\n\u001b[0;32m    257\u001b[0m \u001b[43m    \u001b[49m\u001b[43mallow_unreachable\u001b[49m\u001b[38;5;241;43m=\u001b[39;49m\u001b[38;5;28;43;01mTrue\u001b[39;49;00m\u001b[43m,\u001b[49m\n\u001b[0;32m    258\u001b[0m \u001b[43m    \u001b[49m\u001b[43maccumulate_grad\u001b[49m\u001b[38;5;241;43m=\u001b[39;49m\u001b[38;5;28;43;01mTrue\u001b[39;49;00m\u001b[43m,\u001b[49m\n\u001b[0;32m    259\u001b[0m \u001b[43m\u001b[49m\u001b[43m)\u001b[49m\n",
      "\u001b[1;31mKeyboardInterrupt\u001b[0m: "
     ]
    }
   ],
   "source": [
    "best_acc = 0\n",
    "for epoch in range(epochs):\n",
    "    _trainer.train(\n",
    "        bert_base_model,\n",
    "        train_dataloader,\n",
    "        epoch,\n",
    "        epochs,\n",
    "        writer,\n",
    "        criterion,\n",
    "        optimizer_bert, \n",
    "        scheduler,\n",
    "        device,\n",
    "        len(tag2idx),\n",
    "        max_grad_norm\n",
    "    )\n",
    "    val_loss, val_acc = _trainer.validation(\n",
    "        bert_base_model,\n",
    "        valid_dataloader,\n",
    "        criterion,\n",
    "        device,\n",
    "        len(tag2idx)\n",
    "    )\n",
    "    print(f\"TEST | Epoch: {epoch+1}/{epochs} | Loss: {val_loss:.4f} | Accuracy: {val_acc:.4f}\")\n",
    "    writer.add_scalar('Val/Loss', val_loss, epoch+1)\n",
    "    writer.add_scalar('Val/Acc', val_acc, epoch+1)\n",
    "    checkpoint = {\n",
    "        'model': bert_base_model,\n",
    "        'model_state_dict': bert_base_model.state_dict(),\n",
    "        'epoch': epoch+1,\n",
    "        'optimizer_state_dict': optimizer_bert.state_dict()\n",
    "    }\n",
    "    os.makedirs('model_state_dict/bert', exist_ok=True)\n",
    "    torch.save(checkpoint, os.path.join('model_state_dict/bert', 'last.pth'))\n",
    "    if val_acc > best_acc:\n",
    "        torch.save(checkpoint, os.path.join('model_state_dict/bert', 'best.pth'))\n",
    "        best_acc = val_acc"
   ]
  },
  {
   "cell_type": "markdown",
   "id": "9c5da981-6c3a-4f39-89bb-08bba7b96b40",
   "metadata": {},
   "source": [
    "#### PhoBERT"
   ]
  },
  {
   "cell_type": "code",
   "execution_count": 33,
   "id": "cae70f52-1b34-46a8-b00f-96576b6ed507",
   "metadata": {},
   "outputs": [],
   "source": [
    "import torch\n",
    "from torch.utils.data import TensorDataset, DataLoader, RandomSampler, SequentialSampler\n",
    "from transformers import BertTokenizer, BertConfig\n",
    "\n",
    "from keras.preprocessing.sequence import pad_sequences\n",
    "from sklearn.model_selection import train_test_split"
   ]
  },
  {
   "cell_type": "code",
   "execution_count": 23,
   "id": "88f0abfc-e398-4e21-b2dd-24c775277151",
   "metadata": {},
   "outputs": [],
   "source": [
    "MAX_LEN = 2\n",
    "bs = 32\n",
    "\n",
    "device = torch.device(\"cuda\" if torch.cuda.is_available() else 'cpu')"
   ]
  },
  {
   "cell_type": "code",
   "execution_count": 15,
   "id": "b00be00d-b60b-46e8-91c4-33d6e8bf9a0c",
   "metadata": {},
   "outputs": [
    {
     "data": {
      "application/vnd.jupyter.widget-view+json": {
       "model_id": "4fe4852a846c451facfe0c23eff6684c",
       "version_major": 2,
       "version_minor": 0
      },
      "text/plain": [
       "tokenizer_config.json:   0%|          | 0.00/238 [00:00<?, ?B/s]"
      ]
     },
     "metadata": {},
     "output_type": "display_data"
    },
    {
     "data": {
      "application/vnd.jupyter.widget-view+json": {
       "model_id": "175c7b79b095492aa814f9a2b3bddc78",
       "version_major": 2,
       "version_minor": 0
      },
      "text/plain": [
       "vocab.txt:   0%|          | 0.00/207k [00:00<?, ?B/s]"
      ]
     },
     "metadata": {},
     "output_type": "display_data"
    },
    {
     "data": {
      "application/vnd.jupyter.widget-view+json": {
       "model_id": "c0a05bf064f14e078aebf3a0d93f6e9f",
       "version_major": 2,
       "version_minor": 0
      },
      "text/plain": [
       "special_tokens_map.json:   0%|          | 0.00/112 [00:00<?, ?B/s]"
      ]
     },
     "metadata": {},
     "output_type": "display_data"
    },
    {
     "data": {
      "application/vnd.jupyter.widget-view+json": {
       "model_id": "2f13c20c57384f2aadd28d9ba0899595",
       "version_major": 2,
       "version_minor": 0
      },
      "text/plain": [
       "config.json:   0%|          | 0.00/846 [00:00<?, ?B/s]"
      ]
     },
     "metadata": {},
     "output_type": "display_data"
    }
   ],
   "source": [
    "tokenizer = BertTokenizer.from_pretrained('trituenhantaoio/bert-base-vietnamese-uncased', do_lower_case=False)"
   ]
  },
  {
   "cell_type": "code",
   "execution_count": 32,
   "id": "bd177a4e-30e4-46f4-bd79-915650dd910d",
   "metadata": {},
   "outputs": [],
   "source": [
    "def tokenize_and_preserve_labels(sentence, text_labels):\n",
    "    tokenized_sentence = []\n",
    "    labels = []\n",
    "\n",
    "    for word, label in zip(sentence, text_labels):\n",
    "        tokenized_word = tokenizer.tokenize(word)\n",
    "        n_subwords = len(tokenized_word)\n",
    "        tokenized_sentence.extend(tokenized_word)\n",
    "        labels.extend([label] * n_subwords)\n",
    "\n",
    "    return tokenized_sentence, labels"
   ]
  },
  {
   "cell_type": "code",
   "execution_count": 33,
   "id": "bc9a3b99-0d32-409c-ac16-8188df31dd82",
   "metadata": {},
   "outputs": [],
   "source": [
    "tokenized_texts_and_labels = [\n",
    "    tokenize_and_preserve_labels(sent, labs)\n",
    "    for sent, labs in zip(sentences, labels)\n",
    "]"
   ]
  },
  {
   "cell_type": "code",
   "execution_count": 37,
   "id": "a693c0f6-d3e9-4eb2-ac6c-346e81d8e8f5",
   "metadata": {},
   "outputs": [],
   "source": [
    "tokenized_texts = [token_labels_pair[0] for token_labels_pair in tokenized_texts_and_labels]\n",
    "labels = [token_label_pair[1] for token_label_pair in tokenized_texts_and_labels]"
   ]
  },
  {
   "cell_type": "code",
   "execution_count": 39,
   "id": "7b3b20a7-f100-47a0-a28d-96d42a83dba9",
   "metadata": {},
   "outputs": [
    {
     "data": {
      "text/plain": [
       "['cái',\n",
       " 'đèn',\n",
       " 'tranh',\n",
       " 'trong',\n",
       " 'nhà',\n",
       " 'giữ',\n",
       " 'đồ',\n",
       " 'trường',\n",
       " 'sa',\n",
       " 'có',\n",
       " 'còn',\n",
       " 'không',\n",
       " 'ấy',\n",
       " 'nhờ',\n",
       " 'đi',\n",
       " 'kiểm',\n",
       " 'tra',\n",
       " 'ngay',\n",
       " 'nhé']"
      ]
     },
     "execution_count": 39,
     "metadata": {},
     "output_type": "execute_result"
    }
   ],
   "source": [
    "tokenized_texts[0]"
   ]
  },
  {
   "cell_type": "code",
   "execution_count": 41,
   "id": "410a78b1-869f-4af1-8ec5-604bda57bb5a",
   "metadata": {},
   "outputs": [
    {
     "name": "stdout",
     "output_type": "stream",
     "text": [
      "['cái', 'đèn', 'tranh', 'trong', 'nhà', 'giữ', 'đồ', 'trường', 'sa', 'có', 'còn', 'không', 'ấy', 'nhờ', 'đi', 'kiểm', 'tra', 'ngay', 'nhé']\n"
     ]
    }
   ],
   "source": []
  },
  {
   "cell_type": "code",
   "execution_count": null,
   "id": "5f0cec17-7d31-4cd8-8c3a-a5d8c90ffb55",
   "metadata": {},
   "outputs": [],
   "source": []
  }
 ],
 "metadata": {
  "kernelspec": {
   "display_name": "Python 3",
   "language": "python",
   "name": "python3"
  },
  "language_info": {
   "codemirror_mode": {
    "name": "ipython",
    "version": 3
   },
   "file_extension": ".py",
   "mimetype": "text/x-python",
   "name": "python",
   "nbconvert_exporter": "python",
   "pygments_lexer": "ipython3",
   "version": "3.11.5"
  }
 },
 "nbformat": 4,
 "nbformat_minor": 5
}
